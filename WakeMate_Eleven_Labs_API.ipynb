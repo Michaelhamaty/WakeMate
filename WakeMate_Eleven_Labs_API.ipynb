{
  "nbformat": 4,
  "nbformat_minor": 0,
  "metadata": {
    "colab": {
      "provenance": []
    },
    "kernelspec": {
      "name": "python3",
      "display_name": "Python 3"
    },
    "language_info": {
      "name": "python"
    }
  },
  "cells": [
    {
      "cell_type": "code",
      "execution_count": null,
      "metadata": {
        "colab": {
          "base_uri": "https://localhost:8080/"
        },
        "id": "KnUjCeO5eA_e",
        "outputId": "89065615-8208-49ac-a860-a2ac09ec4cbb"
      },
      "outputs": [
        {
          "output_type": "stream",
          "name": "stdout",
          "text": [
            "Requirement already satisfied: dlib in /usr/local/lib/python3.11/dist-packages (19.24.6)\n",
            "Requirement already satisfied: numpy in /usr/local/lib/python3.11/dist-packages (2.0.2)\n",
            "Requirement already satisfied: opencv-python in /usr/local/lib/python3.11/dist-packages (4.11.0.86)\n"
          ]
        }
      ],
      "source": [
        "#install elevenlabs\n",
        "!pip install dlib numpy opencv-python\n"
      ]
    },
    {
      "cell_type": "code",
      "source": [
        "import time\n",
        "from collections import deque\n",
        "import os\n",
        "from elevenlabs import ElevenLabs, play, Voice, VoiceSettings\n",
        "import cv2\n",
        "import dlib"
      ],
      "metadata": {
        "id": "GMnlnc39feDv"
      },
      "execution_count": null,
      "outputs": []
    },
    {
      "cell_type": "code",
      "source": [
        "#Retrieving api key and creating messages based on severity and amount of chimes\n",
        "import os\n",
        "from elevenlabs import ElevenLabs, play, Voice, VoiceSettings\n",
        "\n",
        "class VoiceAlertManager:\n",
        "    def __init__(self):\n",
        "        api_key = os.getenv(\"ELEVENLABS_API_KEY\")\n",
        "        self.client = ElevenLabs(api_key=api_key)\n",
        "        self.voice = Voice(\n",
        "            voice_id='YOUR_VOICE_ID',  # Replace with your chosen voice ID\n",
        "            settings=VoiceSettings(\n",
        "                stability=0.8,\n",
        "                similarity_boost=0.6,\n",
        "                style=0.2,\n",
        "                use_speaker_boost=True\n",
        "            )\n",
        "        )\n",
        "\n",
        "    def generate_alert(self, chime_count):\n",
        "        if chime_count >= 5:\n",
        "            message = \"You are getting sleepy. Please pull over immediately.\"\n",
        "        elif chime_count >= 3:\n",
        "            message = \"You should rest. You are showing symptoms of sleepiness.\"\n",
        "        else:\n",
        "            message = \"Please stay alert.\"\n",
        "\n",
        "        audio = self.client.generate(\n",
        "            text=message,\n",
        "            voice=self.voice\n",
        "        )\n",
        "        play(audio)\n"
      ],
      "metadata": {
        "id": "j0QIAIH_fall"
      },
      "execution_count": null,
      "outputs": []
    },
    {
      "cell_type": "code",
      "source": [
        "#Main loop cycling through for true conditons\n",
        "# Initialize components\n",
        "detector = dlib.get_frontal_face_detector()\n",
        "predictor = dlib.shape_predictor(\"shape_predictor_68_face_landmarks.dat\")\n",
        "chime_manager = ChimeManager()\n",
        "voice_alert_manager = VoiceAlertManager()\n",
        "\n",
        "cap = cv2.VideoCapture(0)\n",
        "\n",
        "while True:\n",
        "    ret, frame = cap.read()\n",
        "    if not ret:\n",
        "        break\n",
        "\n",
        "    gray = cv2.cvtColor(frame, cv2.COLOR_BGR2GRAY)\n",
        "    faces = detector(gray)\n",
        "\n",
        "    face_detected = len(faces) > 0\n",
        "    chime_manager.update_head_tilt(face_detected)\n",
        "\n",
        "    for face in faces:\n",
        "        landmarks = predictor(gray, face)\n",
        "\n",
        "        # Implement your yawn, blink, and eyes closed detection logic here\n",
        "        # For example:\n",
        "        # if yawn_detected:\n",
        "        #     chime_manager.update_yawn()\n",
        "        # if blink_detected:\n",
        "        #     chime_manager.update_blink()\n",
        "        # if eyes_closed:\n",
        "        #     chime_manager.update_eyes_closed(True)\n",
        "        # else:\n",
        "        #     chime_manager.update_eyes_closed(False)\n",
        "\n",
        "    # Generate voice alert based on chime count\n",
        "    voice_alert_manager.generate_alert(chime_manager.chime_count)\n",
        "\n",
        "    cv2.imshow(\"Drowsiness Detection\", frame)\n",
        "    if cv2.waitKey(1) & 0xFF == ord('q'):\n",
        "        break\n",
        "\n",
        "cap.release()\n",
        "cv2.destroyAllWindows()"
      ],
      "metadata": {
        "id": "u8UHlc9nftaO"
      },
      "execution_count": null,
      "outputs": []
    }
  ]
}
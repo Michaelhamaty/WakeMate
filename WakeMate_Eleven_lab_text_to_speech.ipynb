{
  "nbformat": 4,
  "nbformat_minor": 0,
  "metadata": {
    "colab": {
      "provenance": []
    },
    "kernelspec": {
      "name": "python3",
      "display_name": "Python 3"
    },
    "language_info": {
      "name": "python"
    }
  },
  "cells": [
    {
      "cell_type": "code",
      "source": [
        "import time\n",
        "from collections import deque"
      ],
      "metadata": {
        "id": "4sClVyx1igQr"
      },
      "execution_count": null,
      "outputs": []
    },
    {
      "cell_type": "code",
      "execution_count": null,
      "metadata": {
        "id": "3siSSnR5iPE1"
      },
      "outputs": [],
      "source": [
        "#CHIMES\n",
        "#light, moderate, and severe chiming based on sleepiness conditions\n",
        "class ChimeManager:\n",
        "    def __init__(self):\n",
        "        self.yawn_times = deque()\n",
        "        self.blink_times = deque()\n",
        "        self.chime_count = 0\n",
        "        self.last_chime_time = 0\n",
        "        self.head_tilt_active = False\n",
        "        self.eyes_closed_start = None\n",
        "\n",
        "    def update_yawn(self):\n",
        "        current_time = time.time()\n",
        "        self.yawn_times.append(current_time)\n",
        "        self._remove_old_entries(self.yawn_times)\n",
        "        if len(self.yawn_times) >= 2:\n",
        "            self._trigger_chime()\n",
        "\n",
        "    def update_blink(self):\n",
        "        current_time = time.time()\n",
        "        self.blink_times.append(current_time)\n",
        "        self._remove_old_entries(self.blink_times)\n",
        "        if len(self.blink_times) >= 40:\n",
        "            self._trigger_chime()\n",
        "\n",
        "    def update_head_tilt(self, face_detected):\n",
        "        if not face_detected and not self.head_tilt_active:\n",
        "            self.head_tilt_active = True\n",
        "            self._trigger_continuous_chime()\n",
        "        elif face_detected and self.head_tilt_active:\n",
        "            self.head_tilt_active = False\n",
        "\n",
        "    def update_eyes_closed(self, eyes_closed):\n",
        "        current_time = time.time()\n",
        "        if eyes_closed:\n",
        "            if self.eyes_closed_start is None:\n",
        "                self.eyes_closed_start = current_time\n",
        "            elif current_time - self.eyes_closed_start >= 2.5:\n",
        "                self._trigger_continuous_chime()\n",
        "        else:\n",
        "            self.eyes_closed_start = None\n",
        "\n",
        "    def _remove_old_entries(self, deque_obj):\n",
        "        current_time = time.time()\n",
        "        while deque_obj and current_time - deque_obj[0] > 120:\n",
        "            deque_obj.popleft()\n",
        "\n",
        "    def _trigger_chime(self):\n",
        "        current_time = time.time()\n",
        "        if current_time - self.last_chime_time >= 10:\n",
        "            self.chime_count += 1\n",
        "            self.last_chime_time = current_time\n",
        "            print(\"Chime Triggered\")\n",
        "\n",
        "    def _trigger_continuous_chime(self):\n",
        "        print(\"Continuous Chime Triggered\")\n"
      ]
    }
  ]
}
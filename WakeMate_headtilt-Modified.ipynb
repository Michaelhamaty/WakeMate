{
  "nbformat": 4,
  "nbformat_minor": 0,
  "metadata": {
    "colab": {
      "provenance": []
    },
    "kernelspec": {
      "name": "python3",
      "display_name": "Python 3"
    },
    "language_info": {
      "name": "python"
    }
  },
  "cells": [
    {
      "cell_type": "code",
      "execution_count": 1,
      "metadata": {
        "colab": {
          "base_uri": "https://localhost:8080/"
        },
        "id": "X0jOBIzs0p1r",
        "outputId": "9b7a5af7-3723-4542-e6b1-5f49d8780d3d"
      },
      "outputs": [
        {
          "output_type": "stream",
          "name": "stdout",
          "text": [
            "Requirement already satisfied: opencv-python in /usr/local/lib/python3.11/dist-packages (4.11.0.86)\n",
            "Requirement already satisfied: dlib in /usr/local/lib/python3.11/dist-packages (19.24.6)\n",
            "Requirement already satisfied: numpy>=1.21.2 in /usr/local/lib/python3.11/dist-packages (from opencv-python) (2.0.2)\n"
          ]
        }
      ],
      "source": [
        "pip install opencv-python dlib"
      ]
    },
    {
      "cell_type": "code",
      "source": [
        "import cv2\n",
        "import dlib\n",
        "import numpy as np"
      ],
      "metadata": {
        "id": "TAjW-Bo72i_K"
      },
      "execution_count": 2,
      "outputs": []
    },
    {
      "cell_type": "code",
      "source": [
        "#load models\n",
        "detector = dlib.get_frontal_face_detector()\n",
        "predictor = dlib.shape_predictor(\"shape_predictor_68_face_landmarks.dat\")"
      ],
      "metadata": {
        "id": "gFxQIe6L05lw"
      },
      "execution_count": 3,
      "outputs": []
    },
    {
      "cell_type": "code",
      "source": [
        "import cv2\n",
        "import dlib\n",
        "import numpy as np\n",
        "\n",
        "# Initialize detector and shape predictor\n",
        "detector = dlib.get_frontal_face_detector()\n",
        "predictor = dlib.shape_predictor(\"shape_predictor_68_face_landmarks.dat\")\n",
        "\n",
        "# Helper: calculate angle from nose bridge\n",
        "def get_head_tilt_direction(shape):\n",
        "    # Points on the nose bridge (27 and 30)\n",
        "    nose_top = shape.part(27)\n",
        "    nose_tip = shape.part(30)\n",
        "\n",
        "    # Calculate the vertical movement\n",
        "    dy = nose_tip.y - nose_top.y\n",
        "\n",
        "    # NEW: Flip logic to fix inverted output\n",
        "    if dy > 12:  # More downward means head tilted DOWN\n",
        "        return \"Head Down\"\n",
        "    elif dy < 6:  # Less vertical distance means head tilted UP\n",
        "        return \"Head Up\"\n",
        "    else:\n",
        "        return \"Head Straight\"\n",
        "\n",
        "# Start video capture\n",
        "cap = cv2.VideoCapture(0)\n",
        "\n",
        "while True:\n",
        "    ret, frame = cap.read()\n",
        "    if not ret:\n",
        "        break\n",
        "\n",
        "    gray = cv2.cvtColor(frame, cv2.COLOR_BGR2GRAY)\n",
        "\n",
        "    # MODIFIED: Preprocess to help with poor lighting/contrast\n",
        "    gray = cv2.equalizeHist(gray)\n",
        "\n",
        "    faces = detector(gray)\n",
        "\n",
        "    for face in faces:\n",
        "        landmarks = predictor(gray, face)\n",
        "\n",
        "        # Draw face rectangle\n",
        "        cv2.rectangle(frame, (face.left(), face.top()), (face.right(), face.bottom()), (0, 255, 0), 2)\n",
        "\n",
        "        # Draw all landmarks\n",
        "        for n in range(0, 68):\n",
        "            x = landmarks.part(n).x\n",
        "            y = landmarks.part(n).y\n",
        "            cv2.circle(frame, (x, y), 1, (255, 0, 0), -1)\n",
        "\n",
        "        # Check head direction\n",
        "        direction = get_head_tilt_direction(landmarks)\n",
        "        cv2.putText(frame, direction, (30, 30), cv2.FONT_HERSHEY_SIMPLEX, 1, (0, 0, 255), 2)\n",
        "\n",
        "    # MODIFIED: Add fallback text if no face is detected\n",
        "    if len(faces) == 0:\n",
        "        cv2.putText(frame, \"Face not detected\", (30, 30), cv2.FONT_HERSHEY_SIMPLEX, 1, (0, 0, 255), 2)\n",
        "\n",
        "    cv2.imshow(\"Head Tilt Detection\", frame)\n",
        "\n",
        "    if cv2.waitKey(1) & 0xFF == ord('q'):\n",
        "        break\n",
        "\n",
        "cap.release()\n",
        "cv2.destroyAllWindows()\n"
      ],
      "metadata": {
        "id": "h2KxKOysPg0k"
      },
      "execution_count": 5,
      "outputs": []
    },
    {
      "cell_type": "code",
      "source": [
        "# #CODE TO DETECT HEAD TILT USING DLIB\n",
        "# import cv2\n",
        "# import dlib\n",
        "# import numpy as np\n",
        "\n",
        "# # Load detector and predictor\n",
        "# detector = dlib.get_frontal_face_detector()\n",
        "# predictor = dlib.shape_predictor(\"shape_predictor_68_face_landmarks.dat\")\n",
        "\n",
        "# # 3D model points (generic model)\n",
        "# model_points = np.array([\n",
        "#     (0.0, 0.0, 0.0),             # Nose tip\n",
        "#     (0.0, -330.0, -65.0),        # Chin\n",
        "#     (-225.0, 170.0, -135.0),     # Left eye left corner\n",
        "#     (225.0, 170.0, -135.0),      # Right eye right corner\n",
        "#     (-150.0, -150.0, -125.0),    # Left mouth corner\n",
        "#     (150.0, -150.0, -125.0)      # Right mouth corner\n",
        "# ])\n",
        "\n",
        "# # Start video\n",
        "# cap = cv2.VideoCapture(0)\n",
        "\n",
        "# while True:\n",
        "#     ret, frame = cap.read()\n",
        "#     if not ret:\n",
        "#         break\n",
        "#     gray = cv2.cvtColor(frame, cv2.COLOR_BGR2GRAY)\n",
        "#     faces = detector(gray)\n",
        "\n",
        "#     for face in faces:\n",
        "#         shape = predictor(gray, face)\n",
        "#         landmarks = np.array([[p.x, p.y] for p in shape.parts()])\n",
        "\n",
        "#         image_points = np.array([\n",
        "#             landmarks[30],  # Nose tip\n",
        "#             landmarks[8],   # Chin\n",
        "#             landmarks[36],  # Left eye left corner\n",
        "#             landmarks[45],  # Right eye right corner\n",
        "#             landmarks[48],  # Left mouth corner\n",
        "#             landmarks[54]   # Right mouth corner\n",
        "#         ], dtype=\"double\")\n",
        "\n",
        "#         # Camera internals (assuming webcam with default values)\n",
        "#         size = frame.shape\n",
        "#         focal_length = size[1]\n",
        "#         center = (size[1] / 2, size[0] / 2)\n",
        "#         camera_matrix = np.array([\n",
        "#             [focal_length, 0, center[0]],\n",
        "#             [0, focal_length, center[1]],\n",
        "#             [0, 0, 1]\n",
        "#         ], dtype=\"double\")\n",
        "\n",
        "#         dist_coeffs = np.zeros((4, 1))  # Assuming no lens distortion\n",
        "#         success, rotation_vector, translation_vector = cv2.solvePnP(\n",
        "#             model_points, image_points, camera_matrix, dist_coeffs\n",
        "#         )\n",
        "\n",
        "#         # Convert rotation vector to Euler angles\n",
        "#         rmat, _ = cv2.Rodrigues(rotation_vector)\n",
        "#         angles, _, _, _, _, _ = cv2.RQDecomp3x3(rmat)\n",
        "\n",
        "#         pitch = angles[0]  # Up/down tilt\n",
        "#         yaw = angles[1]    # Left/right turn\n",
        "#         roll = angles[2]   # Side tilt\n",
        "\n",
        "#         # Display tilt status\n",
        "#         if pitch > 15:\n",
        "#             cv2.putText(frame, \"Head tilted DOWN\", (20, 50), cv2.FONT_HERSHEY_SIMPLEX, 1, (0, 0, 255), 2)\n",
        "#         elif pitch < -15:\n",
        "#             cv2.putText(frame, \"Head tilted UP\", (20, 50), cv2.FONT_HERSHEY_SIMPLEX, 1, (0, 255, 0), 2)\n",
        "\n",
        "#         cv2.putText(frame, f\"Pitch: {int(pitch)}\", (20, 100), cv2.FONT_HERSHEY_SIMPLEX, 1, (255, 255, 0), 2)\n",
        "\n",
        "#     cv2.imshow(\"Head Pose Estimation\", frame)\n",
        "#     if cv2.waitKey(1) & 0xFF == ord('q'):\n",
        "#         break\n",
        "\n",
        "# cap.release()\n",
        "# cv2.destroyAllWindows()\n"
      ],
      "metadata": {
        "id": "bdZlXWHX1AEa"
      },
      "execution_count": 4,
      "outputs": []
    }
  ]
}